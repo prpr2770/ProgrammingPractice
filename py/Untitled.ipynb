{
 "cells": [
  {
   "cell_type": "code",
   "execution_count": 26,
   "id": "f54e967c",
   "metadata": {},
   "outputs": [],
   "source": [
    "import pickle  \n",
    "import pandas as pd\n",
    "import seaborn\n",
    "import matplotlib.pyplot as plt\n"
   ]
  },
  {
   "cell_type": "code",
   "execution_count": 3,
   "id": "27347c03",
   "metadata": {},
   "outputs": [],
   "source": [
    "file1=\"./exp_hashSegments.pkl\"\n",
    "with open(file1,\"rb\") as f:\n",
    "    result = pickle.load(f)\n",
    "    "
   ]
  },
  {
   "cell_type": "code",
   "execution_count": 19,
   "id": "78756381",
   "metadata": {},
   "outputs": [
    {
     "data": {
      "text/plain": [
       "('war_and_peace_tolstoy.txt', 'anna_karenina_tolstoy.txt')"
      ]
     },
     "execution_count": 19,
     "metadata": {},
     "output_type": "execute_result"
    }
   ],
   "source": [
    "keys = list(result.keys())\n",
    "keys[0]"
   ]
  },
  {
   "cell_type": "code",
   "execution_count": 58,
   "id": "08c0fcfb",
   "metadata": {},
   "outputs": [
    {
     "ename": "IndexError",
     "evalue": "list index out of range",
     "output_type": "error",
     "traceback": [
      "\u001b[0;31m---------------------------------------------------------------------------\u001b[0m",
      "\u001b[0;31mIndexError\u001b[0m                                Traceback (most recent call last)",
      "Input \u001b[0;32mIn [58]\u001b[0m, in \u001b[0;36m<cell line: 1>\u001b[0;34m()\u001b[0m\n\u001b[0;32m----> 1\u001b[0m exp_key \u001b[38;5;241m=\u001b[39m \u001b[43mkeys\u001b[49m\u001b[43m[\u001b[49m\u001b[38;5;241;43m7\u001b[39;49m\u001b[43m]\u001b[49m\n\u001b[1;32m      2\u001b[0m exp_value \u001b[38;5;241m=\u001b[39m result[exp_key]\n",
      "\u001b[0;31mIndexError\u001b[0m: list index out of range"
     ]
    }
   ],
   "source": [
    "exp_key = keys[7]\n",
    "exp_value = result[exp_key]\n",
    "    \n",
    "    "
   ]
  },
  {
   "cell_type": "code",
   "execution_count": 54,
   "id": "a821ada9",
   "metadata": {},
   "outputs": [
    {
     "data": {
      "text/plain": [
       "('bacterial_genome_1.txt', 'bacterial_genome_2.txt')"
      ]
     },
     "execution_count": 54,
     "metadata": {},
     "output_type": "execute_result"
    }
   ],
   "source": [
    "exp_key"
   ]
  },
  {
   "cell_type": "code",
   "execution_count": 55,
   "id": "790a689e",
   "metadata": {},
   "outputs": [
    {
     "data": {
      "text/plain": [
       "[(8, 8.63970398902893, 1.1975340843200684, 4.5038001537323),\n",
       " (16, 10.832520008087158, 1.6301281452178955, 6.180347681045532),\n",
       " (24, 11.057718992233276, 1.69809889793396, 5.303399324417114),\n",
       " (32, 10.521514892578125, 1.6436150074005127, 5.389677047729492),\n",
       " (40, 10.921787977218628, 1.6590008735656738, 5.7724878787994385),\n",
       " (48, 11.15457010269165, 1.700181007385254, 5.40234375),\n",
       " (56, 10.849031209945679, 1.7078361511230469, 5.240282773971558),\n",
       " (64, 10.993749856948853, 1.694490909576416, 5.900351047515869),\n",
       " (72, 11.09619402885437, 1.710740327835083, 5.830437898635864),\n",
       " (80, 11.081583738327026, 1.7385358810424805, 5.41389799118042),\n",
       " (88, 11.286927938461304, 1.72678804397583, 5.698961973190308),\n",
       " (96, 11.40984320640564, 1.772104024887085, 5.462942838668823),\n",
       " (104, 11.708173036575317, 1.7989387512207031, 5.621327877044678),\n",
       " (112, 11.52665114402771, 1.8452959060668945, 5.5650129318237305),\n",
       " (120, 11.65579891204834, 1.8211040496826172, 5.893109083175659),\n",
       " (128, 12.151527881622314, 1.8347618579864502, 5.840803861618042),\n",
       " (136, 12.290173053741455, 1.8581910133361816, 5.943050146102905),\n",
       " (144, 12.481034994125366, 1.859330177307129, 5.73575496673584),\n",
       " (152, 12.554295063018799, 1.8841049671173096, 5.9443359375),\n",
       " (160, 12.512657880783081, 1.966123104095459, 6.153175115585327),\n",
       " (168, 12.554040908813477, 2.017843008041382, 5.8461596965789795),\n",
       " (176, 13.325358867645264, 1.921910047531128, 5.968529939651489),\n",
       " (184, 12.77337121963501, 1.9497108459472656, 5.602344989776611),\n",
       " (192, 12.637624025344849, 1.9814529418945312, 6.08415412902832),\n",
       " (200, 12.814994096755981, 2.0495431423187256, 6.1191089153289795),\n",
       " (208, 13.268332242965698, 1.99501371383667, 6.149456262588501),\n",
       " (216, 12.615602970123291, 2.0767951011657715, 5.8035888671875),\n",
       " (224, 12.777392148971558, 2.081156015396118, 5.980062007904053),\n",
       " (232, 13.321453094482422, 2.053154945373535, 6.1647748947143555),\n",
       " (240, 12.927325248718262, 2.059422254562378, 5.636099815368652),\n",
       " (248, 12.822831153869629, 2.115638017654419, 6.274628162384033)]"
      ]
     },
     "execution_count": 55,
     "metadata": {},
     "output_type": "execute_result"
    }
   ],
   "source": [
    "exp_value"
   ]
  },
  {
   "cell_type": "code",
   "execution_count": 56,
   "id": "a09634b2",
   "metadata": {},
   "outputs": [],
   "source": [
    "df = pd.DataFrame(exp_value, columns =['k', 'rollingHashNode', 'default', 'defaultHashNode'])"
   ]
  },
  {
   "cell_type": "code",
   "execution_count": null,
   "id": "3e1eb32b",
   "metadata": {},
   "outputs": [],
   "source": [
    "\n"
   ]
  },
  {
   "cell_type": "code",
   "execution_count": 57,
   "id": "f1d90ae6",
   "metadata": {},
   "outputs": [
    {
     "data": {
      "text/plain": [
       "<AxesSubplot:title={'center':\"('bacterial_genome_1.txt', 'bacterial_genome_2.txt')\"}, xlabel='k'>"
      ]
     },
     "execution_count": 57,
     "metadata": {},
     "output_type": "execute_result"
    },
    {
     "data": {
      "image/png": "[encoded data removed]",
      "text/plain": [
       "<Figure size 432x288 with 1 Axes>"
      ]
     },
     "metadata": {
      "needs_background": "light"
     },
     "output_type": "display_data"
    }
   ],
   "source": [
    "df.plot('k', ['rollingHashNode', 'default', 'defaultHashNode'], title=str(exp_key) )"
   ]
  },
  {
   "cell_type": "code",
   "execution_count": null,
   "id": "490d400f",
   "metadata": {},
   "outputs": [],
   "source": []
  }
 ],
 "metadata": {
  "kernelspec": {
   "display_name": "Python 3 (ipykernel)",
   "language": "python",
   "name": "python3"
  },
  "language_info": {
   "codemirror_mode": {
    "name": "ipython",
    "version": 3
   },
   "file_extension": ".py",
   "mimetype": "text/x-python",
   "name": "python",
   "nbconvert_exporter": "python",
   "pygments_lexer": "ipython3",
   "version": "3.9.12"
  }
 },
 "nbformat": 4,
 "nbformat_minor": 5
}
